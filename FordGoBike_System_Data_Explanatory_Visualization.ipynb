{
 "cells": [
  {
   "cell_type": "markdown",
   "metadata": {
    "slideshow": {
     "slide_type": "slide"
    }
   },
   "source": [
    "# Part II - FordGoBike User Behaviour in San Francisco Bay Area\n",
    "## by Zainab Akanji"
   ]
  },
  {
   "cell_type": "markdown",
   "metadata": {
    "slideshow": {
     "slide_type": "slide"
    }
   },
   "source": [
    "\n",
    "## Investigation Overview\n",
    "\n",
    "In this investigation, I aimed to look at the behaviour of the two FordGoBike user types and different gender types in San Francisco Bay Area.\n",
    "  Summary of key insights:\n",
    "  I wrangled the data preliminarily and removed outliers; I explored the individual variables of interest and I found out that;\n",
    "\n",
    "Most trips were between 0 1nd 15 minutes with a peak at 10 minutes\n",
    "\n",
    "Most users are subscribers\n",
    "\n",
    "75% of bike users are males, about 20% are females and about 5% are of the other gender.\n",
    "\n",
    "Most bike users are between the ages of 25-40years with a peak age at 30years.\n",
    "\n",
    "The highest number of trips are taken on Thursdays\n",
    "\n",
    "The highest number of trips are taken by 8a.m and 5p.m which corresponds to the beginning and end of work hours respectively.\n",
    "\n",
    " Then I moved on to perform Bivariate Explortation and analysis showed that;\n",
    "\n",
    "Users between the ages 25-35years take the most trips that are less than 20 minutes\n",
    "\n",
    "More trips are taken during the weekends\n",
    "\n",
    "Customers take longer bike trips\n",
    "\n",
    "Subscribers take most of their trips during the weekday and Customers take most of their trips during weekends\n",
    "\n",
    " Then on Multivariate Exploration;\n",
    "\n",
    "There is no significant relationship between age, bike duration and gender.\n",
    "\n",
    "Female customers take the longest of trips\n",
    "\n",
    "Male and Female Subscribers are most active by the beginning and end of work hours(i.e 8a.m and 5p.m) while male and female customers take their most trips between 7a.m and 10p.m since customers tend to ride mostly on weekends.\n",
    "\n",
    "## Dataset Overview\n",
    "\n",
    "There are 174952 bike observations in the dataset with 16 features. Some variables are numeric in nature, but user_type and member_gender are qualitative in nature. There were 183412 observations originally but missing values were dropped.\n"
   ]
  },
  {
   "cell_type": "code",
   "execution_count": 1,
   "metadata": {
    "slideshow": {
     "slide_type": "skip"
    }
   },
   "outputs": [],
   "source": [
    "# import all packages and set plots to be embedded inline\n",
    "import numpy as np\n",
    "import pandas as pd\n",
    "import matplotlib.pyplot as plt\n",
    "import seaborn as sb\n",
    "\n",
    "%matplotlib inline\n",
    "\n",
    "# suppress warnings from final output\n",
    "import warnings\n",
    "warnings.simplefilter(\"ignore\")"
   ]
  },
  {
   "cell_type": "code",
   "execution_count": 2,
   "metadata": {
    "scrolled": true,
    "slideshow": {
     "slide_type": "skip"
    }
   },
   "outputs": [
    {
     "data": {
      "text/html": [
       "<div>\n",
       "<style scoped>\n",
       "    .dataframe tbody tr th:only-of-type {\n",
       "        vertical-align: middle;\n",
       "    }\n",
       "\n",
       "    .dataframe tbody tr th {\n",
       "        vertical-align: top;\n",
       "    }\n",
       "\n",
       "    .dataframe thead th {\n",
       "        text-align: right;\n",
       "    }\n",
       "</style>\n",
       "<table border=\"1\" class=\"dataframe\">\n",
       "  <thead>\n",
       "    <tr style=\"text-align: right;\">\n",
       "      <th></th>\n",
       "      <th>duration_sec</th>\n",
       "      <th>start_time</th>\n",
       "      <th>end_time</th>\n",
       "      <th>start_station_id</th>\n",
       "      <th>start_station_name</th>\n",
       "      <th>start_station_latitude</th>\n",
       "      <th>start_station_longitude</th>\n",
       "      <th>end_station_id</th>\n",
       "      <th>end_station_name</th>\n",
       "      <th>end_station_latitude</th>\n",
       "      <th>end_station_longitude</th>\n",
       "      <th>bike_id</th>\n",
       "      <th>user_type</th>\n",
       "      <th>member_birth_year</th>\n",
       "      <th>member_gender</th>\n",
       "      <th>bike_share_for_all_trip</th>\n",
       "    </tr>\n",
       "  </thead>\n",
       "  <tbody>\n",
       "    <tr>\n",
       "      <th>0</th>\n",
       "      <td>52185</td>\n",
       "      <td>2019-02-28 17:32:10.1450</td>\n",
       "      <td>2019-03-01 08:01:55.9750</td>\n",
       "      <td>21.0</td>\n",
       "      <td>Montgomery St BART Station (Market St at 2nd St)</td>\n",
       "      <td>37.789625</td>\n",
       "      <td>-122.400811</td>\n",
       "      <td>13.0</td>\n",
       "      <td>Commercial St at Montgomery St</td>\n",
       "      <td>37.794231</td>\n",
       "      <td>-122.402923</td>\n",
       "      <td>4902</td>\n",
       "      <td>Customer</td>\n",
       "      <td>1984.0</td>\n",
       "      <td>Male</td>\n",
       "      <td>No</td>\n",
       "    </tr>\n",
       "    <tr>\n",
       "      <th>1</th>\n",
       "      <td>42521</td>\n",
       "      <td>2019-02-28 18:53:21.7890</td>\n",
       "      <td>2019-03-01 06:42:03.0560</td>\n",
       "      <td>23.0</td>\n",
       "      <td>The Embarcadero at Steuart St</td>\n",
       "      <td>37.791464</td>\n",
       "      <td>-122.391034</td>\n",
       "      <td>81.0</td>\n",
       "      <td>Berry St at 4th St</td>\n",
       "      <td>37.775880</td>\n",
       "      <td>-122.393170</td>\n",
       "      <td>2535</td>\n",
       "      <td>Customer</td>\n",
       "      <td>NaN</td>\n",
       "      <td>NaN</td>\n",
       "      <td>No</td>\n",
       "    </tr>\n",
       "    <tr>\n",
       "      <th>2</th>\n",
       "      <td>61854</td>\n",
       "      <td>2019-02-28 12:13:13.2180</td>\n",
       "      <td>2019-03-01 05:24:08.1460</td>\n",
       "      <td>86.0</td>\n",
       "      <td>Market St at Dolores St</td>\n",
       "      <td>37.769305</td>\n",
       "      <td>-122.426826</td>\n",
       "      <td>3.0</td>\n",
       "      <td>Powell St BART Station (Market St at 4th St)</td>\n",
       "      <td>37.786375</td>\n",
       "      <td>-122.404904</td>\n",
       "      <td>5905</td>\n",
       "      <td>Customer</td>\n",
       "      <td>1972.0</td>\n",
       "      <td>Male</td>\n",
       "      <td>No</td>\n",
       "    </tr>\n",
       "    <tr>\n",
       "      <th>3</th>\n",
       "      <td>36490</td>\n",
       "      <td>2019-02-28 17:54:26.0100</td>\n",
       "      <td>2019-03-01 04:02:36.8420</td>\n",
       "      <td>375.0</td>\n",
       "      <td>Grove St at Masonic Ave</td>\n",
       "      <td>37.774836</td>\n",
       "      <td>-122.446546</td>\n",
       "      <td>70.0</td>\n",
       "      <td>Central Ave at Fell St</td>\n",
       "      <td>37.773311</td>\n",
       "      <td>-122.444293</td>\n",
       "      <td>6638</td>\n",
       "      <td>Subscriber</td>\n",
       "      <td>1989.0</td>\n",
       "      <td>Other</td>\n",
       "      <td>No</td>\n",
       "    </tr>\n",
       "    <tr>\n",
       "      <th>4</th>\n",
       "      <td>1585</td>\n",
       "      <td>2019-02-28 23:54:18.5490</td>\n",
       "      <td>2019-03-01 00:20:44.0740</td>\n",
       "      <td>7.0</td>\n",
       "      <td>Frank H Ogawa Plaza</td>\n",
       "      <td>37.804562</td>\n",
       "      <td>-122.271738</td>\n",
       "      <td>222.0</td>\n",
       "      <td>10th Ave at E 15th St</td>\n",
       "      <td>37.792714</td>\n",
       "      <td>-122.248780</td>\n",
       "      <td>4898</td>\n",
       "      <td>Subscriber</td>\n",
       "      <td>1974.0</td>\n",
       "      <td>Male</td>\n",
       "      <td>Yes</td>\n",
       "    </tr>\n",
       "  </tbody>\n",
       "</table>\n",
       "</div>"
      ],
      "text/plain": [
       "   duration_sec                start_time                  end_time  \\\n",
       "0         52185  2019-02-28 17:32:10.1450  2019-03-01 08:01:55.9750   \n",
       "1         42521  2019-02-28 18:53:21.7890  2019-03-01 06:42:03.0560   \n",
       "2         61854  2019-02-28 12:13:13.2180  2019-03-01 05:24:08.1460   \n",
       "3         36490  2019-02-28 17:54:26.0100  2019-03-01 04:02:36.8420   \n",
       "4          1585  2019-02-28 23:54:18.5490  2019-03-01 00:20:44.0740   \n",
       "\n",
       "   start_station_id                                start_station_name  \\\n",
       "0              21.0  Montgomery St BART Station (Market St at 2nd St)   \n",
       "1              23.0                     The Embarcadero at Steuart St   \n",
       "2              86.0                           Market St at Dolores St   \n",
       "3             375.0                           Grove St at Masonic Ave   \n",
       "4               7.0                               Frank H Ogawa Plaza   \n",
       "\n",
       "   start_station_latitude  start_station_longitude  end_station_id  \\\n",
       "0               37.789625              -122.400811            13.0   \n",
       "1               37.791464              -122.391034            81.0   \n",
       "2               37.769305              -122.426826             3.0   \n",
       "3               37.774836              -122.446546            70.0   \n",
       "4               37.804562              -122.271738           222.0   \n",
       "\n",
       "                               end_station_name  end_station_latitude  \\\n",
       "0                Commercial St at Montgomery St             37.794231   \n",
       "1                            Berry St at 4th St             37.775880   \n",
       "2  Powell St BART Station (Market St at 4th St)             37.786375   \n",
       "3                        Central Ave at Fell St             37.773311   \n",
       "4                         10th Ave at E 15th St             37.792714   \n",
       "\n",
       "   end_station_longitude  bike_id   user_type  member_birth_year  \\\n",
       "0            -122.402923     4902    Customer             1984.0   \n",
       "1            -122.393170     2535    Customer                NaN   \n",
       "2            -122.404904     5905    Customer             1972.0   \n",
       "3            -122.444293     6638  Subscriber             1989.0   \n",
       "4            -122.248780     4898  Subscriber             1974.0   \n",
       "\n",
       "  member_gender bike_share_for_all_trip  \n",
       "0          Male                      No  \n",
       "1           NaN                      No  \n",
       "2          Male                      No  \n",
       "3         Other                      No  \n",
       "4          Male                     Yes  "
      ]
     },
     "execution_count": 2,
     "metadata": {},
     "output_type": "execute_result"
    }
   ],
   "source": [
    "# load in the dataset into a pandas dataframe\n",
    "bike_data = pd.read_csv('201902-fordgobike-tripdata.csv')\n",
    "bike_data.head()"
   ]
  },
  {
   "cell_type": "code",
   "execution_count": 3,
   "metadata": {
    "slideshow": {
     "slide_type": "skip"
    }
   },
   "outputs": [],
   "source": [
    "#data wrangling\n",
    "bike_copy = bike_data.copy()\n",
    "bike_copy.dropna(axis=0,inplace=True)"
   ]
  },
  {
   "cell_type": "code",
   "execution_count": 4,
   "metadata": {
    "slideshow": {
     "slide_type": "skip"
    }
   },
   "outputs": [],
   "source": [
    "#data wrangling\n",
    "bike_copy['start_time'] = pd.to_datetime(bike_copy['start_time'])\n",
    "bike_copy['end_time'] = pd.to_datetime(bike_copy['end_time'])\n",
    "\n",
    "bike_copy.start_station_id = bike_copy.start_station_id.astype('str')\n",
    "bike_copy.end_station_id = bike_copy.end_station_id.astype('str')\n",
    "bike_copy.bike_id = bike_copy.bike_id.astype('str')\n",
    "\n",
    "bike_copy.member_birth_year = bike_copy.member_birth_year.astype(str).str[:-2]\n",
    "\n",
    "#drop the birth year of 1878..could be an outlier\n",
    "bike_copy.drop(bike_copy[(bike_copy.member_birth_year == 1878  )].index, inplace = True)\n"
   ]
  },
  {
   "cell_type": "code",
   "execution_count": 5,
   "metadata": {
    "slideshow": {
     "slide_type": "skip"
    }
   },
   "outputs": [],
   "source": [
    "#data wrangling\n",
    "bike_copy.member_birth_year = bike_copy.member_birth_year.astype('int')\n",
    "bike_copy['age'] = 2019 - bike_copy['member_birth_year']\n",
    "\n",
    "bike_copy['trip_month'] = bike_copy['start_time'].dt.month_name()\n",
    "bike_copy['trip_day'] = bike_copy['start_time'].dt.day_name()\n",
    "\n",
    "bike_copy['trip_hour'] = bike_copy['start_time'].dt.hour\n"
   ]
  },
  {
   "cell_type": "code",
   "execution_count": 6,
   "metadata": {
    "slideshow": {
     "slide_type": "skip"
    }
   },
   "outputs": [],
   "source": [
    "#subsetting data\n",
    "bike_copy['duration_min'] = bike_copy.duration_sec / 60\n",
    "\n",
    "bike_clean = bike_copy.query('age <= 80')\n",
    "\n",
    "bike_cleaned = bike_clean.query('duration_min <= 80')\n",
    "\n",
    "#Rearrange the trip hours\n",
    "hour_trips = range(0,23)\n",
    "hour_category = pd.api.types.CategoricalDtype(ordered=True, categories=hour_trips)\n",
    "bike_copy['trip_hour'] = bike_copy.trip_hour.astype(hour_category)"
   ]
  },
  {
   "cell_type": "markdown",
   "metadata": {
    "slideshow": {
     "slide_type": "notes"
    }
   },
   "source": []
  },
  {
   "cell_type": "markdown",
   "metadata": {
    "slideshow": {
     "slide_type": "slide"
    }
   },
   "source": [
    "## Distribution of Trip Duration\n",
    "\n",
    "Most bike trips were between 0 to 15 minutes with peak at 10 minutes. This could be due to short distances taken between the respective start and end stations\n",
    "\n"
   ]
  },
  {
   "cell_type": "code",
   "execution_count": 7,
   "metadata": {
    "scrolled": true,
    "slideshow": {
     "slide_type": "subslide"
    }
   },
   "outputs": [
    {
     "data": {
      "image/png": "[encoded data removed]",
      "text/plain": [
       "<matplotlib.figure.Figure at 0x7f3b7d26f470>"
      ]
     },
     "metadata": {
      "needs_background": "light"
     },
     "output_type": "display_data"
    }
   ],
   "source": [
    "plt.figure(figsize=[6,6])\n",
    "bins = np.arange(0, bike_cleaned['duration_min'].max()+ 5, 5)\n",
    "plt.hist(data=bike_cleaned, x='duration_min', bins=bins)\n",
    "plt.xlabel('Trip duration in minutes')\n",
    "plt.title('Distribution of Trip Duration')\n",
    "#setting limits between 0 and 80 because all points fell within this range.\n",
    "plt.xlim(0,80);"
   ]
  },
  {
   "cell_type": "code",
   "execution_count": 8,
   "metadata": {
    "slideshow": {
     "slide_type": "skip"
    }
   },
   "outputs": [],
   "source": [
    "#define a function for creating countplot\n",
    "def aCountPlot(bike_copy,x,color=sb.color_palette()[0],order=None):\n",
    "    '''This function plots the counts of the x-variable'''\n",
    "    #set plot dimensions\n",
    "    plt.figure(figsize=[14,6])\n",
    "    #plot\n",
    "    sb.countplot(data=bike_copy, x=x, edgecolor='black', color=color, order=order);\n",
    "    #after plotting, clean up variable name\n",
    "    x=x.replace(\"_\",\" \")#replace _ with a space\n",
    "    #add title and format it\n",
    "    plt.title(f'''Distribution of {x}'''.title(), fontsize=14, weight='bold')\n",
    "    #add xlabel and format it\n",
    "    plt.xlabel(x.title(), fontsize=10, weight='bold')\n",
    "    #add ylabel and format it\n",
    "    plt.ylabel('Frequency'.title(), fontsize=10, weight='bold')"
   ]
  },
  {
   "cell_type": "markdown",
   "metadata": {
    "collapsed": true,
    "slideshow": {
     "slide_type": "slide"
    }
   },
   "source": [
    "## Counts of the two user types\n",
    "\n",
    "The question I want to answer in this practice is that \"Are there more subscribers than customers?\" To answer this question, I visualized a countplot that shows most users are subscribers."
   ]
  },
  {
   "cell_type": "code",
   "execution_count": 9,
   "metadata": {
    "slideshow": {
     "slide_type": "subslide"
    }
   },
   "outputs": [
    {
     "data": {
      "image/png": "[encoded data removed]",
      "text/plain": [
       "<matplotlib.figure.Figure at 0x7f3b7bef20f0>"
      ]
     },
     "metadata": {
      "needs_background": "light"
     },
     "output_type": "display_data"
    }
   ],
   "source": [
    "#call plot function\n",
    "aCountPlot(bike_copy, 'user_type')"
   ]
  },
  {
   "cell_type": "markdown",
   "metadata": {
    "slideshow": {
     "slide_type": "slide"
    }
   },
   "source": [
    "## Member gender frequency\n",
    "\n",
    "The question I want to answer in this practice is that \"Are there more male or female or others taking bike trips?\" To answer this question, I built a countplot that shows the frequency of member gender.\n",
    "From the plot shown below, 75% of bike users are males, about 20% are females and about 5% are of the other gender"
   ]
  },
  {
   "cell_type": "code",
   "execution_count": 10,
   "metadata": {
    "slideshow": {
     "slide_type": "subslide"
    }
   },
   "outputs": [
    {
     "data": {
      "image/png": "[encoded data removed]",
      "text/plain": [
       "<matplotlib.figure.Figure at 0x7f3b7be1c438>"
      ]
     },
     "metadata": {
      "needs_background": "light"
     },
     "output_type": "display_data"
    }
   ],
   "source": [
    "gender_counts = bike_copy['member_gender'].value_counts()\n",
    "n_counts = bike_copy['member_gender'].value_counts().sum()\n",
    "max_counts = gender_counts[0]\n",
    "order = gender_counts.index\n",
    "\n",
    "#getting the proportions\n",
    "max_prop = max_counts/n_counts\n",
    "base_color = sb.color_palette()[2]\n",
    "ticks=np.arange(0, max_prop, 0.1)\n",
    "tick_name = [ '{:0.1f}'.format(v) for v in ticks]\n",
    "#call plot function\n",
    "aCountPlot(bike_copy, 'member_gender', color=base_color)\n",
    "plt.yticks(ticks*n_counts, tick_name);"
   ]
  },
  {
   "cell_type": "markdown",
   "metadata": {
    "slideshow": {
     "slide_type": "slide"
    }
   },
   "source": [
    "## Trip Distribution of user types\n",
    "\n",
    "Customers take more trips than Subscribers with Female customers taking the longest of trips."
   ]
  },
  {
   "cell_type": "code",
   "execution_count": 11,
   "metadata": {
    "slideshow": {
     "slide_type": "subslide"
    }
   },
   "outputs": [
    {
     "data": {
      "image/png": "[encoded data removed]",
      "text/plain": [
       "<matplotlib.figure.Figure at 0x7f3b7bdfa0f0>"
      ]
     },
     "metadata": {
      "needs_background": "light"
     },
     "output_type": "display_data"
    }
   ],
   "source": [
    "g = sb.FacetGrid(data=bike_cleaned, col='member_gender', size = 5)\n",
    "g.map(sb.boxplot, 'user_type', 'duration_min')\n",
    "g.fig.subplots_adjust(top=0.9)\n",
    "g.fig.suptitle('Distribution of bike trips of user types', fontsize=13);"
   ]
  },
  {
   "cell_type": "markdown",
   "metadata": {
    "slideshow": {
     "slide_type": "slide"
    }
   },
   "source": [
    "## Distribution of bike trips of user types of different gender at different hours of the day\n",
    "\n",
    "Male and Female Subscribers are most active by the beginning and end of work hours(i.e 8a.m and 5p.m) while male and female customers take their most trips between 7a.m and 10p.m since customers tend to ride mostly on weekends."
   ]
  },
  {
   "cell_type": "code",
   "execution_count": 12,
   "metadata": {
    "slideshow": {
     "slide_type": "subslide"
    }
   },
   "outputs": [
    {
     "data": {
      "image/png": "[encoded data removed]",
      "text/plain": [
       "<matplotlib.figure.Figure at 0x7f3b7bdd42b0>"
      ]
     },
     "metadata": {
      "needs_background": "light"
     },
     "output_type": "display_data"
    }
   ],
   "source": [
    "g = sb.FacetGrid(data = bike_cleaned, col = 'member_gender', row = 'user_type', size = 5,\n",
    "                margin_titles = True, sharey=False)\n",
    "g.map(sb.countplot, 'trip_hour')\n",
    "g.set_xlabels('Trips(hour)')\n",
    "g.set_ylabels('Counts')\n",
    "g.fig.subplots_adjust(top=0.9)\n",
    "g.fig.suptitle('Distribution of bike trips of user types of different gender', fontsize=16);"
   ]
  },
  {
   "cell_type": "markdown",
   "metadata": {
    "slideshow": {
     "slide_type": "skip"
    }
   },
   "source": [
    "### Generate Slideshow\n",
    "Once you're ready to generate your slideshow, use the `jupyter nbconvert` command to generate the HTML slide show.  "
   ]
  },
  {
   "cell_type": "code",
   "execution_count": null,
   "metadata": {
    "slideshow": {
     "slide_type": "skip"
    }
   },
   "outputs": [
    {
     "name": "stdout",
     "output_type": "stream",
     "text": [
      "[NbConvertApp] Converting notebook FordGoBike_System_Data_Explanatory_Visualization.ipynb to slides\n",
      "[NbConvertApp] Writing 396299 bytes to FordGoBike_System_Data_Explanatory_Visualization.slides.html\n",
      "[NbConvertApp] Redirecting reveal.js requests to https://cdnjs.cloudflare.com/ajax/libs/reveal.js/3.5.0\n",
      "Serving your slides at http://127.0.0.1:8000/FordGoBike_System_Data_Explanatory_Visualization.slides.html\n",
      "Use Control-C to stop this server\n",
      "/usr/bin/xdg-open: 778: /usr/bin/xdg-open: x-www-browser: not found\n",
      "/usr/bin/xdg-open: 778: /usr/bin/xdg-open: firefox: not found\n",
      "/usr/bin/xdg-open: 778: /usr/bin/xdg-open: iceweasel: not found\n",
      "/usr/bin/xdg-open: 778: /usr/bin/xdg-open: seamonkey: not found\n",
      "/usr/bin/xdg-open: 778: /usr/bin/xdg-open: mozilla: not found\n",
      "/usr/bin/xdg-open: 778: /usr/bin/xdg-open: epiphany: not found\n",
      "/usr/bin/xdg-open: 778: /usr/bin/xdg-open: konqueror: not found\n",
      "/usr/bin/xdg-open: 778: /usr/bin/xdg-open: chromium-browser: not found\n",
      "/usr/bin/xdg-open: 778: /usr/bin/xdg-open: google-chrome: not found\n",
      "/usr/bin/xdg-open: 778: /usr/bin/xdg-open: www-browser: not found\n",
      "/usr/bin/xdg-open: 778: /usr/bin/xdg-open: links2: not found\n",
      "/usr/bin/xdg-open: 778: /usr/bin/xdg-open: elinks: not found\n",
      "/usr/bin/xdg-open: 778: /usr/bin/xdg-open: links: not found\n",
      "/usr/bin/xdg-open: 778: /usr/bin/xdg-open: lynx: not found\n",
      "/usr/bin/xdg-open: 778: /usr/bin/xdg-open: w3m: not found\n",
      "xdg-open: no method available for opening 'http://127.0.0.1:8000/FordGoBike_System_Data_Explanatory_Visualization.slides.html'\n"
     ]
    }
   ],
   "source": [
    "# The command below will generate the HTML slideshow. \n",
    "!jupyter nbconvert FordGoBike_System_Data_Explanatory_Visualization --to slides --post serve --no-input --no-prompt "
   ]
  },
  {
   "cell_type": "markdown",
   "metadata": {
    "slideshow": {
     "slide_type": "skip"
    }
   },
   "source": [
    "> In the classroom workspace, the generated HTML slideshow will be placed in the home folder. \n",
    "\n",
    "> In local machines, the command above should open a tab in your web browser where you can scroll through your presentation. Sub-slides can be accessed by pressing 'down' when viewing its parent slide. Make sure you remove all of the quote-formatted guide notes like this one before you finish your presentation! At last, you can stop the Kernel. "
   ]
  },
  {
   "cell_type": "markdown",
   "metadata": {
    "slideshow": {
     "slide_type": "skip"
    }
   },
   "source": [
    "### Submission\n",
    "If you are using classroom workspace, you can choose from the following two ways of submission:\n",
    "\n",
    "1. **Submit from the workspace**. Make sure you have removed the example project from the /home/workspace directory. You must submit the following files:\n",
    "   - Part_I_notebook.ipynb\n",
    "   - Part_I_notebook.html or pdf\n",
    "   - Part_II_notebook.ipynb\n",
    "   - Part_I_slides.html\n",
    "   - README.md\n",
    "   - dataset (optional)\n",
    "\n",
    "\n",
    "2. **Submit a zip file on the last page of this project lesson**. In this case, open the Jupyter terminal and run the command below to generate a ZIP file. \n",
    "```bash\n",
    "zip -r my_project.zip .\n",
    "```\n",
    "The command abobve will ZIP every file present in your /home/workspace directory. Next, you can download the zip to your local, and follow the instructions on the last page of this project lesson.\n"
   ]
  },
  {
   "cell_type": "code",
   "execution_count": null,
   "metadata": {
    "slideshow": {
     "slide_type": "skip"
    }
   },
   "outputs": [],
   "source": []
  }
 ],
 "metadata": {
  "celltoolbar": "Slideshow",
  "kernelspec": {
   "display_name": "Python 3",
   "language": "python",
   "name": "python3"
  },
  "language_info": {
   "codemirror_mode": {
    "name": "ipython",
    "version": 3
   },
   "file_extension": ".py",
   "mimetype": "text/x-python",
   "name": "python",
   "nbconvert_exporter": "python",
   "pygments_lexer": "ipython3",
   "version": "3.6.3"
  }
 },
 "nbformat": 4,
 "nbformat_minor": 2
}
